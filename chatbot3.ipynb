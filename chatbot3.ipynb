{
 "cells": [
  {
   "cell_type": "code",
   "execution_count": null,
   "metadata": {},
   "outputs": [],
   "source": [
    "from transformers import LlamaForCausalLM, LlamaTokenizer\n",
    "import torch\n",
    "\n",
    "model_id = \"meta-llama/Llama-2-7b-hf\"  \n",
    "tokenizer = LlamaTokenizer.from_pretrained(model_id)\n",
    "model = LlamaForCausalLM.from_pretrained(\n",
    "    model_id,\n",
    "    torch_dtype=torch.float16,\n",
    "    device_map=\"auto\",\n",
    "    load_in_8bit=True\n",
    ")"
   ]
  },
  {
   "cell_type": "code",
   "execution_count": null,
   "metadata": {},
   "outputs": [],
   "source": [
    "def article_generator():\n",
    "    print(\"Welcome to the LLaMA 2 Article Generator!\")\n",
    "    topic = input(\"Enter the topic you'd like an article about: \")\n",
    "    tone = input(\"Choose the tone (e.g., Formal, Casual, Persuasive): \")\n",
    "    additional_details = input(\"Provide any additional details or keywords (optional): \")\n",
    "\n",
    "    # Build the prompt dynamically\n",
    "    prompt = (f\"Write a {tone.lower()} article about '{topic}'. \"\n",
    "              f\"Include the following details: {additional_details}. Ensure it is well-structured and informative.\")\n",
    "\n",
    "    print(\"\\nGenerating article...\\n\")\n",
    "    article = generate_article(prompt)\n",
    "    print(article)"
   ]
  },
  {
   "cell_type": "code",
   "execution_count": null,
   "metadata": {},
   "outputs": [],
   "source": [
    "article_generator()"
   ]
  },
  {
   "cell_type": "code",
   "execution_count": null,
   "metadata": {},
   "outputs": [],
   "source": [
    "#Fine tuning \n",
    "from transformers import TrainingArguments, Trainer\n",
    "\n",
    "   training_args = TrainingArguments(\n",
    "       output_dir=\"./llama2-finetuned\",\n",
    "       per_device_train_batch_size=2,\n",
    "       gradient_accumulation_steps=4,\n",
    "       num_train_epochs=3,\n",
    "       save_steps=500,\n",
    "       logging_dir=\"./logs\",\n",
    "       fp16=True,\n",
    "   )\n",
    "\n",
    "   trainer = Trainer(\n",
    "       model=model,\n",
    "       args=training_args,\n",
    "       train_dataset=train_dataset,\n",
    "   )\n",
    "\n",
    "   trainer.train()"
   ]
  },
  {
   "cell_type": "code",
   "execution_count": null,
   "metadata": {},
   "outputs": [],
   "source": [
    "\n"
   ]
  },
  {
   "cell_type": "code",
   "execution_count": null,
   "metadata": {},
   "outputs": [],
   "source": []
  },
  {
   "cell_type": "code",
   "execution_count": null,
   "metadata": {
    "id": "2nV5jJSIsRCi"
   },
   "outputs": [],
   "source": []
  },
  {
   "cell_type": "code",
   "execution_count": null,
   "metadata": {},
   "outputs": [],
   "source": [
    "\n"
   ]
  },
  {
   "cell_type": "code",
   "execution_count": null,
   "metadata": {},
   "outputs": [],
   "source": []
  },
  {
   "cell_type": "code",
   "execution_count": null,
   "metadata": {},
   "outputs": [],
   "source": []
  },
  {
   "cell_type": "code",
   "execution_count": null,
   "metadata": {
    "id": "G35oHPJtsRGO"
   },
   "outputs": [],
   "source": []
  }
 ],
 "metadata": {
  "accelerator": "GPU",
  "colab": {
   "gpuType": "T4",
   "provenance": []
  },
  "kernelspec": {
   "display_name": "Python 3",
   "name": "python3"
  },
  "language_info": {
   "codemirror_mode": {
    "name": "ipython",
    "version": 3
   },
   "file_extension": ".py",
   "mimetype": "text/x-python",
   "name": "python",
   "nbconvert_exporter": "python",
   "pygments_lexer": "ipython3",
   "version": "3.12.7"
  }
 },
 "nbformat": 4,
 "nbformat_minor": 0
}
